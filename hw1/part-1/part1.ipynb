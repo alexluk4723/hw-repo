{
 "cells": [
  {
   "cell_type": "markdown",
   "id": "b86af8e9-3033-444d-a4b9-527815dacf52",
   "metadata": {},
   "source": [
    "Создадим файл локально"
   ]
  },
  {
   "cell_type": "code",
   "execution_count": 4,
   "id": "52c2019a-fd89-4e1b-9593-a599e4e60278",
   "metadata": {},
   "outputs": [
    {
     "name": "stdout",
     "output_type": "stream",
     "text": [
      "hello world!\n"
     ]
    }
   ],
   "source": [
    "!touch example_file.txt\n",
    "!echo \"hello world!\" > example_file.txt\n",
    "!cat example_file.txt"
   ]
  },
  {
   "cell_type": "markdown",
   "id": "048c76c9-324a-466c-bc56-0ce8a91e1534",
   "metadata": {},
   "source": [
    "Теперь положим его в hdfs"
   ]
  },
  {
   "cell_type": "code",
   "execution_count": 5,
   "id": "05617f72-4286-43b7-b117-941235505a2f",
   "metadata": {},
   "outputs": [
    {
     "name": "stdout",
     "output_type": "stream",
     "text": [
      "ls: `.': No such file or directory\n"
     ]
    }
   ],
   "source": [
    "!hadoop fs -ls"
   ]
  },
  {
   "cell_type": "code",
   "execution_count": 7,
   "id": "1bd19230-aa26-4602-86de-6ff1c76015cf",
   "metadata": {},
   "outputs": [],
   "source": [
    "!hadoop fs -mkdir /test"
   ]
  },
  {
   "cell_type": "code",
   "execution_count": 9,
   "id": "aa6d439b-2267-45e3-8b87-a57d1899079c",
   "metadata": {},
   "outputs": [],
   "source": [
    "!hadoop fs -ls /test"
   ]
  },
  {
   "cell_type": "code",
   "execution_count": 10,
   "id": "c3d8f599-9812-42bd-80a8-6e533368ed21",
   "metadata": {},
   "outputs": [],
   "source": [
    "!hadoop fs -put example_file.txt /test"
   ]
  },
  {
   "cell_type": "code",
   "execution_count": 11,
   "id": "7bd211a5-452a-4fdf-b134-e603c9829fa6",
   "metadata": {},
   "outputs": [
    {
     "name": "stdout",
     "output_type": "stream",
     "text": [
      "Found 1 items\n",
      "-rw-r--r--   3 root supergroup         13 2023-12-06 18:47 /test/example_file.txt\n"
     ]
    }
   ],
   "source": [
    "!hadoop fs -ls /test"
   ]
  },
  {
   "cell_type": "code",
   "execution_count": 12,
   "id": "53440410-b385-40ef-81d6-9e6b2f18fc4d",
   "metadata": {},
   "outputs": [
    {
     "name": "stdout",
     "output_type": "stream",
     "text": [
      "hello world!\n"
     ]
    }
   ],
   "source": [
    "!hadoop fs -cat /test/example_file.txt"
   ]
  },
  {
   "cell_type": "markdown",
   "id": "1fc93658-0c24-4309-8520-b35dd1843478",
   "metadata": {},
   "source": [
    "После этого также все отображается, если зайти в namenode интерфейс и перейти в \"Browse the file system\""
   ]
  },
  {
   "cell_type": "code",
   "execution_count": 13,
   "id": "0cba7ba5-f13b-4018-85d2-6a050d95f7f7",
   "metadata": {},
   "outputs": [
    {
     "name": "stdout",
     "output_type": "stream",
     "text": [
      "Number of Maps  = 15\n",
      "Samples per Map = 1800\n",
      "Wrote input for Map #0\n",
      "Wrote input for Map #1\n",
      "Wrote input for Map #2\n",
      "Wrote input for Map #3\n",
      "Wrote input for Map #4\n",
      "Wrote input for Map #5\n",
      "Wrote input for Map #6\n",
      "Wrote input for Map #7\n",
      "Wrote input for Map #8\n",
      "Wrote input for Map #9\n",
      "Wrote input for Map #10\n",
      "Wrote input for Map #11\n",
      "Wrote input for Map #12\n",
      "Wrote input for Map #13\n",
      "Wrote input for Map #14\n",
      "Starting Job\n",
      "2023-12-06 18:51:02 INFO  DefaultNoHARMFailoverProxyProvider:64 - Connecting to ResourceManager at resourcemanager/172.20.0.5:8032\n",
      "2023-12-06 18:51:02 INFO  JobResourceUploader:907 - Disabling Erasure Coding for path: /tmp/hadoop-yarn/staging/root/.staging/job_1701877008637_0001\n",
      "2023-12-06 18:51:02 INFO  FileInputFormat:300 - Total input files to process : 15\n",
      "2023-12-06 18:51:03 INFO  JobSubmitter:202 - number of splits:15\n",
      "2023-12-06 18:51:03 INFO  JobSubmitter:298 - Submitting tokens for job: job_1701877008637_0001\n",
      "2023-12-06 18:51:03 INFO  JobSubmitter:299 - Executing with tokens: []\n",
      "2023-12-06 18:51:03 INFO  Configuration:2854 - resource-types.xml not found\n",
      "2023-12-06 18:51:03 INFO  ResourceUtils:476 - Unable to find 'resource-types.xml'.\n",
      "2023-12-06 18:51:03 INFO  YarnClientImpl:338 - Submitted application application_1701877008637_0001\n",
      "2023-12-06 18:51:03 INFO  Job:1682 - The url to track the job: http://resourcemanager:8088/proxy/application_1701877008637_0001/\n",
      "2023-12-06 18:51:03 INFO  Job:1727 - Running job: job_1701877008637_0001\n",
      "2023-12-06 18:51:07 INFO  Job:1748 - Job job_1701877008637_0001 running in uber mode : false\n",
      "2023-12-06 18:51:07 INFO  Job:1755 -  map 0% reduce 0%\n",
      "2023-12-06 18:51:11 INFO  Job:1755 -  map 7% reduce 0%\n",
      "2023-12-06 18:51:12 INFO  Job:1755 -  map 13% reduce 0%\n",
      "2023-12-06 18:51:13 INFO  Job:1755 -  map 20% reduce 0%\n",
      "2023-12-06 18:51:14 INFO  Job:1755 -  map 27% reduce 0%\n",
      "2023-12-06 18:51:15 INFO  Job:1755 -  map 33% reduce 0%\n",
      "2023-12-06 18:51:16 INFO  Job:1755 -  map 40% reduce 0%\n",
      "2023-12-06 18:51:17 INFO  Job:1755 -  map 47% reduce 0%\n",
      "2023-12-06 18:51:18 INFO  Job:1755 -  map 53% reduce 0%\n",
      "2023-12-06 18:51:19 INFO  Job:1755 -  map 60% reduce 0%\n",
      "2023-12-06 18:51:20 INFO  Job:1755 -  map 67% reduce 0%\n",
      "2023-12-06 18:51:21 INFO  Job:1755 -  map 73% reduce 0%\n",
      "2023-12-06 18:51:22 INFO  Job:1755 -  map 80% reduce 0%\n",
      "2023-12-06 18:51:24 INFO  Job:1755 -  map 87% reduce 0%\n",
      "2023-12-06 18:51:25 INFO  Job:1755 -  map 93% reduce 0%\n",
      "2023-12-06 18:51:27 INFO  Job:1755 -  map 100% reduce 100%\n",
      "2023-12-06 18:51:28 INFO  Job:1766 - Job job_1701877008637_0001 completed successfully\n",
      "2023-12-06 18:51:28 INFO  Job:1773 - Counters: 54\n",
      "\tFile System Counters\n",
      "\t\tFILE: Number of bytes read=336\n",
      "\t\tFILE: Number of bytes written=4461026\n",
      "\t\tFILE: Number of read operations=0\n",
      "\t\tFILE: Number of large read operations=0\n",
      "\t\tFILE: Number of write operations=0\n",
      "\t\tHDFS: Number of bytes read=3875\n",
      "\t\tHDFS: Number of bytes written=215\n",
      "\t\tHDFS: Number of read operations=65\n",
      "\t\tHDFS: Number of large read operations=0\n",
      "\t\tHDFS: Number of write operations=3\n",
      "\t\tHDFS: Number of bytes read erasure-coded=0\n",
      "\tJob Counters \n",
      "\t\tLaunched map tasks=15\n",
      "\t\tLaunched reduce tasks=1\n",
      "\t\tRack-local map tasks=15\n",
      "\t\tTotal time spent by all maps in occupied slots (ms)=31290\n",
      "\t\tTotal time spent by all reduces in occupied slots (ms)=12770\n",
      "\t\tTotal time spent by all map tasks (ms)=15645\n",
      "\t\tTotal time spent by all reduce tasks (ms)=6385\n",
      "\t\tTotal vcore-milliseconds taken by all map tasks=15645\n",
      "\t\tTotal vcore-milliseconds taken by all reduce tasks=6385\n",
      "\t\tTotal megabyte-milliseconds taken by all map tasks=16020480\n",
      "\t\tTotal megabyte-milliseconds taken by all reduce tasks=6538240\n",
      "\tMap-Reduce Framework\n",
      "\t\tMap input records=15\n",
      "\t\tMap output records=30\n",
      "\t\tMap output bytes=270\n",
      "\t\tMap output materialized bytes=420\n",
      "\t\tInput split bytes=2105\n",
      "\t\tCombine input records=0\n",
      "\t\tCombine output records=0\n",
      "\t\tReduce input groups=2\n",
      "\t\tReduce shuffle bytes=420\n",
      "\t\tReduce input records=30\n",
      "\t\tReduce output records=0\n",
      "\t\tSpilled Records=60\n",
      "\t\tShuffled Maps =15\n",
      "\t\tFailed Shuffles=0\n",
      "\t\tMerged Map outputs=15\n",
      "\t\tGC time elapsed (ms)=500\n",
      "\t\tCPU time spent (ms)=3260\n",
      "\t\tPhysical memory (bytes) snapshot=4500721664\n",
      "\t\tVirtual memory (bytes) snapshot=41631866880\n",
      "\t\tTotal committed heap usage (bytes)=7198474240\n",
      "\t\tPeak Map Physical memory (bytes)=285270016\n",
      "\t\tPeak Map Virtual memory (bytes)=2604408832\n",
      "\t\tPeak Reduce Physical memory (bytes)=273195008\n",
      "\t\tPeak Reduce Virtual memory (bytes)=2608648192\n",
      "\tShuffle Errors\n",
      "\t\tBAD_ID=0\n",
      "\t\tCONNECTION=0\n",
      "\t\tIO_ERROR=0\n",
      "\t\tWRONG_LENGTH=0\n",
      "\t\tWRONG_MAP=0\n",
      "\t\tWRONG_REDUCE=0\n",
      "\tFile Input Format Counters \n",
      "\t\tBytes Read=1770\n",
      "\tFile Output Format Counters \n",
      "\t\tBytes Written=97\n",
      "Job Finished in 26.522 seconds\n",
      "Estimated value of Pi is 3.14162962962962962963\n"
     ]
    }
   ],
   "source": [
    "!hadoop jar /opt/hadoop/share/hadoop/mapreduce/hadoop-mapreduce-examples-3.3.6.jar pi 15 1800"
   ]
  },
  {
   "cell_type": "code",
   "execution_count": null,
   "id": "b6a2cb7f-ab92-42e6-ad71-d281417103ff",
   "metadata": {},
   "outputs": [],
   "source": []
  }
 ],
 "metadata": {
  "kernelspec": {
   "display_name": "Python 3 (ipykernel)",
   "language": "python",
   "name": "python3"
  },
  "language_info": {
   "codemirror_mode": {
    "name": "ipython",
    "version": 3
   },
   "file_extension": ".py",
   "mimetype": "text/x-python",
   "name": "python",
   "nbconvert_exporter": "python",
   "pygments_lexer": "ipython3",
   "version": "3.10.12"
  }
 },
 "nbformat": 4,
 "nbformat_minor": 5
}
